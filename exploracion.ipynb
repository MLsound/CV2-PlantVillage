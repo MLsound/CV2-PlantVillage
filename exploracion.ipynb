{
 "cells": [
  {
   "cell_type": "markdown",
   "metadata": {},
   "source": [
    "# Trabajo práctico integrador - Visión por Computadoras II\n",
    "## Carrera de Especialización en Inteligencia Artificial - Cohorte 17\n",
    "### Autores:\n",
    "* Piñero, Juan Cruz \n",
    "* Lloveras, Alejandro\n",
    "* Méndez, Diego Martín"
   ]
  },
  {
   "cell_type": "markdown",
   "metadata": {},
   "source": [
    "**Objetivo del trabajo**\n",
    "\n",
    "Utilizar modelos de *Computer Vision* para clasificar enfermedades de plantas (38 clases)."
   ]
  },
  {
   "cell_type": "code",
   "execution_count": 1,
   "metadata": {},
   "outputs": [],
   "source": [
    "# Importamos librerías\n",
    "import pandas as pd\n",
    "import numpy as np\n",
    "import matplotlib.pyplot as plt"
   ]
  },
  {
   "cell_type": "markdown",
   "metadata": {},
   "source": [
    "# Dataset"
   ]
  },
  {
   "cell_type": "markdown",
   "metadata": {},
   "source": [
    "Dataset de Kaggle con ~87 mil imágenes RGB de hojas de cultivos sanas y enfermas, categorizadas en 38 clases diferentes."
   ]
  },
  {
   "cell_type": "markdown",
   "metadata": {},
   "source": [
    "**Link:** https://www.kaggle.com/datasets/abdallahalidev/plantvillage-dataset"
   ]
  },
  {
   "cell_type": "code",
   "execution_count": null,
   "metadata": {},
   "outputs": [
    {
     "name": "stderr",
     "output_type": "stream",
     "text": [
      "/opt/anaconda3/envs/cv-env/lib/python3.11/site-packages/tqdm/auto.py:21: TqdmWarning: IProgress not found. Please update jupyter and ipywidgets. See https://ipywidgets.readthedocs.io/en/stable/user_install.html\n",
      "  from .autonotebook import tqdm as notebook_tqdm\n"
     ]
    },
    {
     "name": "stdout",
     "output_type": "stream",
     "text": [
      "Warning: Looks like you're using an outdated `kagglehub` version, please consider updating (latest version: 0.3.10)\n",
      "Downloading from https://www.kaggle.com/api/v1/datasets/download/abdallahalidev/plantvillage-dataset?dataset_version_number=3...\n"
     ]
    },
    {
     "name": "stderr",
     "output_type": "stream",
     "text": [
      "100%|██████████| 2.04G/2.04G [01:48<00:00, 20.1MB/s]"
     ]
    },
    {
     "name": "stdout",
     "output_type": "stream",
     "text": [
      "Extracting model files...\n"
     ]
    },
    {
     "name": "stderr",
     "output_type": "stream",
     "text": [
      "\n"
     ]
    },
    {
     "name": "stdout",
     "output_type": "stream",
     "text": [
      "Path to dataset files: /Users/alejandrolloveras/.cache/kagglehub/datasets/abdallahalidev/plantvillage-dataset/versions/3\n"
     ]
    }
   ],
   "source": [
    "import kagglehub\n",
    "\n",
    "# Download latest version\n",
    "path = kagglehub.dataset_download(\"abdallahalidev/plantvillage-dataset\")\n",
    "\n",
    "print(\"Path to dataset files:\", path)"
   ]
  },
  {
   "cell_type": "markdown",
   "metadata": {},
   "source": [
    "## Importación de imágenes"
   ]
  },
  {
   "cell_type": "code",
   "execution_count": 3,
   "metadata": {},
   "outputs": [],
   "source": [
    "import os\n",
    "import logging"
   ]
  },
  {
   "cell_type": "code",
   "execution_count": 4,
   "metadata": {},
   "outputs": [],
   "source": [
    "# CONFIGURACIÓN INICIAL:\n",
    "\n",
    "# Ruta de acceso al dataset\n",
    "ROOT_DIR = '/Users/alejandrolloveras/.cache/kagglehub/datasets/abdallahalidev/plantvillage-dataset/versions/3/plantvillage dataset/color'\n",
    "\n",
    "# Separador usado en los nombres de las subcarpetas\n",
    "SEPARATOR = '___' # Separa entre 'group' y 'class'\n",
    "\n",
    "# Extensiones de archivo de imagen a considerar (en minúsculas)\n",
    "IMAGE_EXTENSIONS = {'.jpg', '.jpeg', '.png', '.bmp', '.gif', '.tiff', '.webp'}\n",
    "\n",
    "# Configuración básica de logging\n",
    "logging.basicConfig(level=logging.INFO, format='%(asctime)s - %(levelname)s - %(message)s')"
   ]
  },
  {
   "cell_type": "code",
   "execution_count": 5,
   "metadata": {},
   "outputs": [],
   "source": [
    "def process_image_directory(root_dir, separator='___', valid_extensions=None):\n",
    "    \"\"\"\n",
    "    Recorre un directorio raíz, extrae rutas de imágenes y metadatos de subcarpetas.\n",
    "\n",
    "    Args:\n",
    "        root_dir (str): La ruta al directorio raíz que contiene las subcarpetas de clases.\n",
    "        separator (str): El separador utilizado en los nombres de las subcarpetas\n",
    "                         para dividir 'group' y 'class'.\n",
    "        valid_extensions (set, optional): Un conjunto de extensiones de archivo (en minúsculas,\n",
    "                                          incluyendo el punto) a considerar como imágenes.\n",
    "                                          Si es None, se usará un conjunto predeterminado.\n",
    "\n",
    "    Returns:\n",
    "        pandas.DataFrame: Un DataFrame con las columnas 'image_path', 'filename', 'group', 'class'.\n",
    "                          Retorna un DataFrame vacío si el directorio raíz no existe o\n",
    "                          no se encuentran imágenes válidas.\n",
    "    \"\"\"\n",
    "    if valid_extensions is None:\n",
    "        valid_extensions = IMAGE_EXTENSIONS # Verifica que sean archivos de imagen\n",
    "\n",
    "    data = []\n",
    "    output_columns = ['image_path', 'filename', 'group', 'class'] # Define la estructura para el Dataframe\n",
    "\n",
    "    if not os.path.isdir(root_dir):\n",
    "        logging.error(f\"El directorio raíz especificado no existe: {root_dir}\")\n",
    "        return pd.DataFrame(data, columns=output_columns) # Asegura que exista el directorio\n",
    "\n",
    "    logging.info(f\"Comenzando el procesamiento del directorio: {root_dir}\")\n",
    "\n",
    "    # Exploración de cada sucarpeta\n",
    "    for entry in os.scandir(root_dir):\n",
    "        if entry.is_dir():\n",
    "            subdir_name = entry.name\n",
    "            subdir_path = entry.path\n",
    "            logging.info(f\"Procesando subdirectorio: {subdir_name}\")\n",
    "\n",
    "            if separator in subdir_name:\n",
    "                try:\n",
    "                    group_name, class_name = subdir_name.split(separator, 1)\n",
    "                except ValueError:\n",
    "                    logging.warning(f\"No se pudo dividir el nombre '{subdir_name}' usando '{separator}'. Saltando directorio.\")\n",
    "                    continue\n",
    "\n",
    "                for sub_entry in os.scandir(subdir_path):\n",
    "                    if sub_entry.is_file():\n",
    "                        file_name = sub_entry.name\n",
    "                        file_path = sub_entry.path\n",
    "\n",
    "                        _, extension = os.path.splitext(file_name)\n",
    "                        if extension.lower() in valid_extensions:\n",
    "                            relative_path = os.path.relpath(os.path.dirname(file_path), root_dir) # Carpeta dónde encontrar a imagen\n",
    "                            \n",
    "                            # Almacena toda la información\n",
    "                            data.append({\n",
    "                                'image_path': f\"{relative_path}/\",\n",
    "                                'filename': file_name,\n",
    "                                'group': group_name,\n",
    "                                'class': class_name\n",
    "                            })\n",
    "                        else:\n",
    "                            logging.debug(f\"Archivo omitido (no es imagen válida): {file_path}\")\n",
    "            else:\n",
    "                logging.warning(f\"El nombre del subdirectorio '{subdir_name}' no contiene el separador '{separator}'. Saltando.\")\n",
    "\n",
    "    if not data:\n",
    "        logging.warning(\"No se encontraron imágenes válidas en la estructura de directorios especificada.\")\n",
    "\n",
    "    # Construye el DataFrame\n",
    "    df = pd.DataFrame(data, columns=output_columns)\n",
    "    logging.info(f\"Proceso completado. Se encontraron {len(df)} imágenes.\")\n",
    "    return df"
   ]
  },
  {
   "cell_type": "code",
   "execution_count": 6,
   "metadata": {},
   "outputs": [
    {
     "name": "stderr",
     "output_type": "stream",
     "text": [
      "2025-03-31 13:30:15,389 - INFO - Comenzando el procesamiento del directorio: /Users/alejandrolloveras/.cache/kagglehub/datasets/abdallahalidev/plantvillage-dataset/versions/3/plantvillage dataset/color\n",
      "2025-03-31 13:30:15,397 - INFO - Procesando subdirectorio: Strawberry___healthy\n",
      "2025-03-31 13:30:15,415 - INFO - Procesando subdirectorio: Grape___Black_rot\n",
      "2025-03-31 13:30:15,446 - INFO - Procesando subdirectorio: Potato___Early_blight\n",
      "2025-03-31 13:30:15,473 - INFO - Procesando subdirectorio: Blueberry___healthy\n",
      "2025-03-31 13:30:15,512 - INFO - Procesando subdirectorio: Corn_(maize)___healthy\n",
      "2025-03-31 13:30:15,536 - INFO - Procesando subdirectorio: Tomato___Target_Spot\n",
      "2025-03-31 13:30:15,565 - INFO - Procesando subdirectorio: Peach___healthy\n",
      "2025-03-31 13:30:15,573 - INFO - Procesando subdirectorio: Potato___Late_blight\n",
      "2025-03-31 13:30:15,592 - INFO - Procesando subdirectorio: Tomato___Late_blight\n",
      "2025-03-31 13:30:15,632 - INFO - Procesando subdirectorio: Tomato___Tomato_mosaic_virus\n",
      "2025-03-31 13:30:15,639 - INFO - Procesando subdirectorio: Pepper,_bell___healthy\n",
      "2025-03-31 13:30:15,669 - INFO - Procesando subdirectorio: Orange___Haunglongbing_(Citrus_greening)\n",
      "2025-03-31 13:30:15,809 - INFO - Procesando subdirectorio: Tomato___Leaf_Mold\n",
      "2025-03-31 13:30:15,841 - INFO - Procesando subdirectorio: Grape___Leaf_blight_(Isariopsis_Leaf_Spot)\n",
      "2025-03-31 13:30:15,875 - INFO - Procesando subdirectorio: Cherry_(including_sour)___Powdery_mildew\n",
      "2025-03-31 13:30:15,898 - INFO - Procesando subdirectorio: Apple___Cedar_apple_rust\n",
      "2025-03-31 13:30:15,908 - INFO - Procesando subdirectorio: Tomato___Bacterial_spot\n",
      "2025-03-31 13:30:15,959 - INFO - Procesando subdirectorio: Grape___healthy\n",
      "2025-03-31 13:30:15,969 - INFO - Procesando subdirectorio: Tomato___Early_blight\n",
      "2025-03-31 13:30:15,994 - INFO - Procesando subdirectorio: Corn_(maize)___Common_rust_\n",
      "2025-03-31 13:30:16,018 - INFO - Procesando subdirectorio: Grape___Esca_(Black_Measles)\n",
      "2025-03-31 13:30:16,060 - INFO - Procesando subdirectorio: Raspberry___healthy\n",
      "2025-03-31 13:30:16,072 - INFO - Procesando subdirectorio: Tomato___healthy\n",
      "2025-03-31 13:30:16,105 - INFO - Procesando subdirectorio: Cherry_(including_sour)___healthy\n",
      "2025-03-31 13:30:16,130 - INFO - Procesando subdirectorio: Tomato___Tomato_Yellow_Leaf_Curl_Virus\n",
      "2025-03-31 13:30:16,386 - INFO - Procesando subdirectorio: Apple___Apple_scab\n",
      "2025-03-31 13:30:16,422 - INFO - Procesando subdirectorio: Corn_(maize)___Northern_Leaf_Blight\n",
      "2025-03-31 13:30:16,447 - INFO - Procesando subdirectorio: Tomato___Spider_mites Two-spotted_spider_mite\n",
      "2025-03-31 13:30:16,586 - INFO - Procesando subdirectorio: Peach___Bacterial_spot\n",
      "2025-03-31 13:30:16,646 - INFO - Procesando subdirectorio: Pepper,_bell___Bacterial_spot\n",
      "2025-03-31 13:30:16,669 - INFO - Procesando subdirectorio: Tomato___Septoria_leaf_spot\n",
      "2025-03-31 13:30:16,713 - INFO - Procesando subdirectorio: Squash___Powdery_mildew\n",
      "2025-03-31 13:30:16,760 - INFO - Procesando subdirectorio: Corn_(maize)___Cercospora_leaf_spot Gray_leaf_spot\n",
      "2025-03-31 13:30:16,777 - INFO - Procesando subdirectorio: Apple___Black_rot\n",
      "2025-03-31 13:30:16,795 - INFO - Procesando subdirectorio: Apple___healthy\n",
      "2025-03-31 13:30:16,847 - INFO - Procesando subdirectorio: Strawberry___Leaf_scorch\n",
      "2025-03-31 13:30:16,875 - INFO - Procesando subdirectorio: Potato___healthy\n",
      "2025-03-31 13:30:16,880 - INFO - Procesando subdirectorio: Soybean___healthy\n",
      "2025-03-31 13:30:17,000 - INFO - Proceso completado. Se encontraron 54305 imágenes.\n"
     ]
    }
   ],
   "source": [
    "df = process_image_directory(ROOT_DIR)"
   ]
  },
  {
   "cell_type": "code",
   "execution_count": 7,
   "metadata": {},
   "outputs": [
    {
     "data": {
      "text/html": [
       "<div>\n",
       "<style scoped>\n",
       "    .dataframe tbody tr th:only-of-type {\n",
       "        vertical-align: middle;\n",
       "    }\n",
       "\n",
       "    .dataframe tbody tr th {\n",
       "        vertical-align: top;\n",
       "    }\n",
       "\n",
       "    .dataframe thead th {\n",
       "        text-align: right;\n",
       "    }\n",
       "</style>\n",
       "<table border=\"1\" class=\"dataframe\">\n",
       "  <thead>\n",
       "    <tr style=\"text-align: right;\">\n",
       "      <th></th>\n",
       "      <th>image_path</th>\n",
       "      <th>filename</th>\n",
       "      <th>group</th>\n",
       "      <th>class</th>\n",
       "    </tr>\n",
       "  </thead>\n",
       "  <tbody>\n",
       "    <tr>\n",
       "      <th>48895</th>\n",
       "      <td>Strawberry___Leaf_scorch/</td>\n",
       "      <td>1f7f3e65-fb9f-4a05-8304-26850067d617___RS_L.Sc...</td>\n",
       "      <td>Strawberry</td>\n",
       "      <td>Leaf_scorch</td>\n",
       "    </tr>\n",
       "    <tr>\n",
       "      <th>23140</th>\n",
       "      <td>Grape___healthy/</td>\n",
       "      <td>7dcbe0fa-4dc1-4234-97d4-9c19391fbe21___Mt.N.V_...</td>\n",
       "      <td>Grape</td>\n",
       "      <td>healthy</td>\n",
       "    </tr>\n",
       "    <tr>\n",
       "      <th>22670</th>\n",
       "      <td>Tomato___Bacterial_spot/</td>\n",
       "      <td>d1c21ca6-efc2-48f3-a1be-1593320db75c___GCREC_B...</td>\n",
       "      <td>Tomato</td>\n",
       "      <td>Bacterial_spot</td>\n",
       "    </tr>\n",
       "    <tr>\n",
       "      <th>17190</th>\n",
       "      <td>Orange___Haunglongbing_(Citrus_greening)/</td>\n",
       "      <td>0df51ff0-4618-4eac-ba38-04b7a781294c___CREC_HL...</td>\n",
       "      <td>Orange</td>\n",
       "      <td>Haunglongbing_(Citrus_greening)</td>\n",
       "    </tr>\n",
       "    <tr>\n",
       "      <th>34587</th>\n",
       "      <td>Tomato___Tomato_Yellow_Leaf_Curl_Virus/</td>\n",
       "      <td>2ff9d604-2e15-4baa-974d-2038df4501e1___UF.GRC_...</td>\n",
       "      <td>Tomato</td>\n",
       "      <td>Tomato_Yellow_Leaf_Curl_Virus</td>\n",
       "    </tr>\n",
       "  </tbody>\n",
       "</table>\n",
       "</div>"
      ],
      "text/plain": [
       "                                      image_path  \\\n",
       "48895                  Strawberry___Leaf_scorch/   \n",
       "23140                           Grape___healthy/   \n",
       "22670                   Tomato___Bacterial_spot/   \n",
       "17190  Orange___Haunglongbing_(Citrus_greening)/   \n",
       "34587    Tomato___Tomato_Yellow_Leaf_Curl_Virus/   \n",
       "\n",
       "                                                filename       group  \\\n",
       "48895  1f7f3e65-fb9f-4a05-8304-26850067d617___RS_L.Sc...  Strawberry   \n",
       "23140  7dcbe0fa-4dc1-4234-97d4-9c19391fbe21___Mt.N.V_...       Grape   \n",
       "22670  d1c21ca6-efc2-48f3-a1be-1593320db75c___GCREC_B...      Tomato   \n",
       "17190  0df51ff0-4618-4eac-ba38-04b7a781294c___CREC_HL...      Orange   \n",
       "34587  2ff9d604-2e15-4baa-974d-2038df4501e1___UF.GRC_...      Tomato   \n",
       "\n",
       "                                 class  \n",
       "48895                      Leaf_scorch  \n",
       "23140                          healthy  \n",
       "22670                   Bacterial_spot  \n",
       "17190  Haunglongbing_(Citrus_greening)  \n",
       "34587    Tomato_Yellow_Leaf_Curl_Virus  "
      ]
     },
     "execution_count": 7,
     "metadata": {},
     "output_type": "execute_result"
    }
   ],
   "source": [
    "df.sample(5)"
   ]
  },
  {
   "cell_type": "code",
   "execution_count": 8,
   "metadata": {},
   "outputs": [
    {
     "name": "stdout",
     "output_type": "stream",
     "text": [
      "<class 'pandas.core.frame.DataFrame'>\n",
      "RangeIndex: 54305 entries, 0 to 54304\n",
      "Data columns (total 4 columns):\n",
      " #   Column      Non-Null Count  Dtype \n",
      "---  ------      --------------  ----- \n",
      " 0   image_path  54305 non-null  object\n",
      " 1   filename    54305 non-null  object\n",
      " 2   group       54305 non-null  object\n",
      " 3   class       54305 non-null  object\n",
      "dtypes: object(4)\n",
      "memory usage: 1.7+ MB\n"
     ]
    }
   ],
   "source": [
    "df.info()"
   ]
  },
  {
   "cell_type": "code",
   "execution_count": 9,
   "metadata": {},
   "outputs": [
    {
     "data": {
      "text/html": [
       "<div>\n",
       "<style scoped>\n",
       "    .dataframe tbody tr th:only-of-type {\n",
       "        vertical-align: middle;\n",
       "    }\n",
       "\n",
       "    .dataframe tbody tr th {\n",
       "        vertical-align: top;\n",
       "    }\n",
       "\n",
       "    .dataframe thead th {\n",
       "        text-align: right;\n",
       "    }\n",
       "</style>\n",
       "<table border=\"1\" class=\"dataframe\">\n",
       "  <thead>\n",
       "    <tr style=\"text-align: right;\">\n",
       "      <th></th>\n",
       "      <th>image_path</th>\n",
       "      <th>filename</th>\n",
       "      <th>group</th>\n",
       "      <th>class</th>\n",
       "    </tr>\n",
       "  </thead>\n",
       "  <tbody>\n",
       "    <tr>\n",
       "      <th>count</th>\n",
       "      <td>54305</td>\n",
       "      <td>54305</td>\n",
       "      <td>54305</td>\n",
       "      <td>54305</td>\n",
       "    </tr>\n",
       "    <tr>\n",
       "      <th>unique</th>\n",
       "      <td>38</td>\n",
       "      <td>54305</td>\n",
       "      <td>14</td>\n",
       "      <td>21</td>\n",
       "    </tr>\n",
       "    <tr>\n",
       "      <th>top</th>\n",
       "      <td>Orange___Haunglongbing_(Citrus_greening)/</td>\n",
       "      <td>c7f4b7b2-b13c-476e-a936-c91ce39749a3___RS_HL 6...</td>\n",
       "      <td>Tomato</td>\n",
       "      <td>healthy</td>\n",
       "    </tr>\n",
       "    <tr>\n",
       "      <th>freq</th>\n",
       "      <td>5507</td>\n",
       "      <td>1</td>\n",
       "      <td>18160</td>\n",
       "      <td>15084</td>\n",
       "    </tr>\n",
       "  </tbody>\n",
       "</table>\n",
       "</div>"
      ],
      "text/plain": [
       "                                       image_path  \\\n",
       "count                                       54305   \n",
       "unique                                         38   \n",
       "top     Orange___Haunglongbing_(Citrus_greening)/   \n",
       "freq                                         5507   \n",
       "\n",
       "                                                 filename   group    class  \n",
       "count                                               54305   54305    54305  \n",
       "unique                                              54305      14       21  \n",
       "top     c7f4b7b2-b13c-476e-a936-c91ce39749a3___RS_HL 6...  Tomato  healthy  \n",
       "freq                                                    1   18160    15084  "
      ]
     },
     "execution_count": 9,
     "metadata": {},
     "output_type": "execute_result"
    }
   ],
   "source": [
    "df.describe()"
   ]
  },
  {
   "cell_type": "code",
   "execution_count": 10,
   "metadata": {},
   "outputs": [
    {
     "name": "stdout",
     "output_type": "stream",
     "text": [
      "Conteo por grupo:\n",
      "group\n",
      "Tomato                     18160\n",
      "Orange                      5507\n",
      "Soybean                     5090\n",
      "Grape                       4062\n",
      "Corn_(maize)                3852\n",
      "Apple                       3171\n",
      "Peach                       2657\n",
      "Pepper,_bell                2475\n",
      "Potato                      2152\n",
      "Cherry_(including_sour)     1906\n",
      "Squash                      1835\n",
      "Strawberry                  1565\n",
      "Blueberry                   1502\n",
      "Raspberry                    371\n",
      "Name: count, dtype: int64\n"
     ]
    }
   ],
   "source": [
    "print(\"Conteo por grupo:\")\n",
    "print(df['group'].value_counts())"
   ]
  },
  {
   "cell_type": "code",
   "execution_count": 11,
   "metadata": {},
   "outputs": [
    {
     "name": "stdout",
     "output_type": "stream",
     "text": [
      "Conteo por clase:\n",
      "class\n",
      "healthy                                15084\n",
      "Haunglongbing_(Citrus_greening)         5507\n",
      "Bacterial_spot                          5421\n",
      "Tomato_Yellow_Leaf_Curl_Virus           5357\n",
      "Late_blight                             2909\n",
      "                                       ...  \n",
      "Leaf_Mold                                952\n",
      "Apple_scab                               630\n",
      "Cercospora_leaf_spot Gray_leaf_spot      513\n",
      "Tomato_mosaic_virus                      373\n",
      "Cedar_apple_rust                         275\n",
      "Name: count, Length: 21, dtype: int64\n"
     ]
    }
   ],
   "source": [
    "print(\"Conteo por clase:\")\n",
    "print(df['class'].value_counts())"
   ]
  }
 ],
 "metadata": {
  "kernelspec": {
   "display_name": "cv-env",
   "language": "python",
   "name": "python3"
  },
  "language_info": {
   "codemirror_mode": {
    "name": "ipython",
    "version": 3
   },
   "file_extension": ".py",
   "mimetype": "text/x-python",
   "name": "python",
   "nbconvert_exporter": "python",
   "pygments_lexer": "ipython3",
   "version": "3.11.11"
  }
 },
 "nbformat": 4,
 "nbformat_minor": 2
}
