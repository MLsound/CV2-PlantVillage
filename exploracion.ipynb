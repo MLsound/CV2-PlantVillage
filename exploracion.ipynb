{
 "cells": [
  {
   "cell_type": "markdown",
   "metadata": {},
   "source": [
    "# Trabajo práctico integrador - Visión por Computadoras II\n",
    "## Carrera de Especialización en Inteligencia Artificial - Cohorte 17\n",
    "### Autores:\n",
    "* Piñero, Juan Cruz \n",
    "* Lloveras, Alejandro\n",
    "* Méndez, Diego Martín"
   ]
  },
  {
   "cell_type": "markdown",
   "metadata": {},
   "source": [
    "**Objetivo del trabajo**\n",
    "\n",
    "Utilizar modelos de *Computer Vision* para clasificar enfermedades de plantas (38 clases)."
   ]
  },
  {
   "cell_type": "code",
   "metadata": {
    "ExecuteTime": {
     "end_time": "2025-04-04T23:16:41.099595Z",
     "start_time": "2025-04-04T23:16:41.097955Z"
    }
   },
   "source": [
    "# Importamos librerías\n",
    "import pandas as pd\n",
    "import numpy as np\n",
    "import matplotlib.pyplot as plt"
   ],
   "outputs": [],
   "execution_count": 42
  },
  {
   "cell_type": "markdown",
   "metadata": {},
   "source": [
    "# Dataset"
   ]
  },
  {
   "cell_type": "markdown",
   "metadata": {},
   "source": "El dataset es 'PlantVillage' , obtenido de Kaggle con más de 50 mil imágenes RGB de hojas de cultivos sanas y enfermas, categorizadas en 38 clases diferentes. La primera versión del dataset fue disponibilizada por David. P. Hughes, Marcel Salathe y utilizado para desarrollar el proyecto 'PlantVillage' de la universidad de Penn State. https://arxiv.org/abs/1511.08060"
  },
  {
   "metadata": {},
   "cell_type": "markdown",
   "source": [
    "## Contenido del dataset \n",
    "\n",
    "Dentro del dataset encontramos una jerarquía de carpetas que contienen imagenes. \n",
    "En el primer nivel encontramos tres carpetas que describen el tipo de imagen segun su preprocesamiento. Estas son:\n",
    "\n",
    "- color: imagenes en color\n",
    "- grayscale: mismas imagenes pero en escala de grises. En principio es desconocido el algoritmo utilizado.\n",
    "    - apriori podriamos decir que la escala de grises no es ideal para detectar anomalías en cultivos, ya que muchas enfermedades se manifiestan con una diferencia de color entre las partes afectadas y las partes no afectadas.   \n",
    "- segmented: mismas imagenes pero despues de aplicar algún algoritmo de segmentación. En principio es desconocido el algoritmo utilizado.\n",
    "    - Haciendo una inspección inicial podemos ver que no todas las segmentaciones son de buena calidad, por lo que apriori optaríamos por usar las imágenes en color, haciendo algun preprocesamiento de las mismas por nuestra cuenta si fuera necesario.\n",
    "\n",
    "\n",
    "Dentro de cada una de las tres carpetas que describen el preoposesamiento (color,grayscale,segmented) encontramos 38 carpetas, cada una con sus respectivas imagenes. Los nombres de las carpetas indican tanto la especie como la enfermedad o bien la palabra 'healthy' como indicador de que la imagen es de una planta sana . Por ejemplo, la carpeta \"Apple___Apple_scab\" contiene imagenes de hojas de manzana con 'Sarna del manzano'.\n",
    "\n",
    "Como se puede ver en la descripción disponible en kaggle, el número de imagenes dentro de cada clase varía entre 152 y 5507 segun la especie y la enfermedad.\n",
    "\n",
    "En el análisis exploratorio obtenemos una tabla resumen con las especies y las enfermedades presentes en el dataset, así como la cardinalidad de cada conjunto.\n",
    "\n",
    "\n",
    "\n",
    "### Tamaño de las imagenes\n",
    "Las imágenes se encuentran normalizadas a un tamaño de 256x256 pixeles.\n",
    "\n",
    " ## Descripción del problema. \n",
    "\n",
    "El objetivo es construir un modelo que permita diagnosticar las enfermedades mediante una foto de una hoja de una planta. Por lo tanto podemos diagramarlo como un problema de clasificación. Donde las clases son las enfermedades, en conjunto con la especie de la planta. En otras palabras , las clases podrían ser los nombres de las carpetas que contienen las imagenes.\n",
    "\n",
    "### Estado del arte\n",
    "\n",
    "La aplicación de deep learning en este problema ha permitido grandes avances en los resultados obtenidos . Con los modelos del estado del arte se alcanzan resultados de mas de 95% de accuracy en clasificación y niveles de precisión de más del 90% en problemas de detección y segmentación de plagas y enfermedades en plantas / cultivos.\n",
    "\n",
    "### Modelo a implementar como solución\n",
    "\n",
    "La cantidad de imágenes en cada directorio nos permite predecir que , al intentar resolver la clasificación, tendremos un problema de desbalance de clases. Por lo tanto será importante tomar esto en cuenta a la hora de elegir la métrica a utilizar en el entrenamiento del modelo.\n",
    "\n",
    "La exactitud del modelo así planteado estará lógicamente limitada a las especies y enfermedades tratadas. Se podría tambien plantear un modelo donde se intente clasificar entre 'enferma' o 'sana' para intentar generalizar a otras especies o enfermedades, aunque esa generalización sería también muy limitada dada la diversidad de especies que existen en el mundo real. Dicho problema en principio no lo contemplaremos en este trabajo. Sólo nos vamos a limitar a clasificar entre las 38 clases presentes en el dataset.\n",
    "\n",
    "Una forma de incorporar al modelo más complejidad e intentar abarcar otras especies podría ser utilizando Transfer Learning con un modelo pre-entrenado. Fine-tuneandolo para éste dataset. O bien utilizando técnicas / arquitecturas de Few Shot Learning. \n",
    "\n",
    "### Etapa de preprocesamiento\n",
    "\n",
    "El hecho de que el dataset ya cuente con directorios donde se facilitan los datos preprocesados, nos da un indicio de que esa etapa es muy importante para el problema que se quiere resolver.\n",
    "\n",
    "Será necesaria una etapa de preprocesamiento donde podamos aplicar algúna transformación de las imagenes para mejorar su calidad y poder obtener un mejor resultado en el entrenamiento. Dichas transformaciones podrían consistir tanto en el resize como en transformaciones de espacio de color, segmentaciones, etc. \n",
    "A modo de referencia podemos mencionar un artículo que explora el estado del arte en el tema de detección de enfermedades en plantas con Computer Vision:\n",
    "[(Trends in Machine and Deep Learning Techniques for Plant Disease Identification: A Systematic Review)]: \n",
    "https://www.researchgate.net/profile/Juvenal-Rodriguez/publication/386275339_Trends_in_Machine_and_Deep_Learning_Techniques_for_Plant_Disease_Identification_A_Systematic_Review/links/674b1535f309a268c0193cd3/Trends-in-Machine-and-Deep-Learning-Techniques-for-Plant-Disease-Identification-A-Systematic-Review.pdf\n",
    "\n",
    "Según este artículo se destacan los siguientes items clave en el preprocesamiento de las imagenes:\n",
    "- Resizing y cropping. La arquitectura a utilizar puede llegar a requerir un tamaño determinado de la imagen de entrada.\n",
    "- Normalización de las imagenes. Podria ser necesario llevar los valores de los pixeles a un rango normalizado [0,1]. Esto suele mitigar los efectos de variaciones en brillo y contraste.\n",
    "- Reducción de ruido.\n",
    "- Data augmentation: este proceso es clave cuando se cuenta con datasets de tamaño o dispoinibilidad limitada. Se pueden aplicar operaciones variadas a las imagenes para aumentar la cantidad de datos y mejorar la generalizabilidad del modelo. Incluso se podría aplicar una GAN para generar imagenes sinteticas.\n",
    "- Transformaciones de espacio de color: podria ser a escala de grises, HSV, etc.\n",
    "\n"
   ]
  },
  {
   "cell_type": "markdown",
   "metadata": {},
   "source": [
    "**Link:** https://www.kaggle.com/datasets/abdallahalidev/plantvillage-dataset"
   ]
  },
  {
   "metadata": {},
   "cell_type": "markdown",
   "source": ""
  },
  {
   "cell_type": "code",
   "metadata": {
    "ExecuteTime": {
     "end_time": "2025-04-04T23:16:41.467512Z",
     "start_time": "2025-04-04T23:16:41.110099Z"
    }
   },
   "source": [
    "import kagglehub\n",
    "\n",
    "# Download latest version\n",
    "path = kagglehub.dataset_download(\"abdallahalidev/plantvillage-dataset\")\n",
    "\n",
    "print(\"Path to dataset files:\", path)"
   ],
   "outputs": [
    {
     "name": "stdout",
     "output_type": "stream",
     "text": [
      "Warning: Looks like you're using an outdated `kagglehub` version (installed: 0.3.8), please consider upgrading to the latest version (0.3.11).\n",
      "Path to dataset files: /home/juan/.cache/kagglehub/datasets/abdallahalidev/plantvillage-dataset/versions/3\n"
     ]
    }
   ],
   "execution_count": 43
  },
  {
   "cell_type": "markdown",
   "metadata": {},
   "source": [
    "## Importación de imágenes"
   ]
  },
  {
   "cell_type": "code",
   "metadata": {
    "ExecuteTime": {
     "end_time": "2025-04-04T23:16:41.474476Z",
     "start_time": "2025-04-04T23:16:41.473104Z"
    }
   },
   "source": [
    "import os\n",
    "import logging"
   ],
   "outputs": [],
   "execution_count": 44
  },
  {
   "cell_type": "code",
   "metadata": {
    "ExecuteTime": {
     "end_time": "2025-04-04T23:16:41.517252Z",
     "start_time": "2025-04-04T23:16:41.515567Z"
    }
   },
   "source": [
    "# CONFIGURACIÓN INICIAL:\n",
    "\n",
    "# Ruta de acceso al dataset\n",
    "ROOT_DIR = path+'/plantvillage dataset/color'\n",
    "\n",
    "# Separador usado en los nombres de las subcarpetas\n",
    "SEPARATOR = '___' # Separa entre 'group' y 'class'\n",
    "\n",
    "# Extensiones de archivo de imagen a considerar (en minúsculas)\n",
    "IMAGE_EXTENSIONS = {'.jpg', '.jpeg', '.png', '.bmp', '.gif', '.tiff', '.webp'}\n",
    "\n",
    "# Configuración básica de logging\n",
    "logging.basicConfig(level=logging.INFO, format='%(asctime)s - %(levelname)s - %(message)s')"
   ],
   "outputs": [],
   "execution_count": 45
  },
  {
   "cell_type": "code",
   "metadata": {
    "ExecuteTime": {
     "end_time": "2025-04-04T23:16:41.561948Z",
     "start_time": "2025-04-04T23:16:41.558801Z"
    }
   },
   "source": [
    "def process_image_directory(root_dir, separator='___', valid_extensions=None):\n",
    "    \"\"\"\n",
    "    Recorre un directorio raíz, extrae rutas de imágenes y metadatos de subcarpetas.\n",
    "\n",
    "    Args:\n",
    "        root_dir (str): La ruta al directorio raíz que contiene las subcarpetas de clases.\n",
    "        separator (str): El separador utilizado en los nombres de las subcarpetas\n",
    "                         para dividir 'group' y 'class'.\n",
    "        valid_extensions (set, optional): Un conjunto de extensiones de archivo (en minúsculas,\n",
    "                                          incluyendo el punto) a considerar como imágenes.\n",
    "                                          Si es None, se usará un conjunto predeterminado.\n",
    "\n",
    "    Returns:\n",
    "        pandas.DataFrame: Un DataFrame con las columnas 'image_path', 'filename', 'group', 'class'.\n",
    "                          Retorna un DataFrame vacío si el directorio raíz no existe o\n",
    "                          no se encuentran imágenes válidas.\n",
    "    \"\"\"\n",
    "    if valid_extensions is None:\n",
    "        valid_extensions = IMAGE_EXTENSIONS # Verifica que sean archivos de imagen\n",
    "\n",
    "    data = []\n",
    "    output_columns = ['image_path', 'filename', 'group', 'class'] # Define la estructura para el Dataframe\n",
    "\n",
    "    if not os.path.isdir(root_dir):\n",
    "        logging.error(f\"El directorio raíz especificado no existe: {root_dir}\")\n",
    "        return pd.DataFrame(data, columns=output_columns) # Asegura que exista el directorio\n",
    "\n",
    "    logging.info(f\"Comenzando el procesamiento del directorio: {root_dir}\")\n",
    "\n",
    "    # Exploración de cada sucarpeta\n",
    "    for entry in os.scandir(root_dir):\n",
    "        if entry.is_dir():\n",
    "            subdir_name = entry.name\n",
    "            subdir_path = entry.path\n",
    "            logging.info(f\"Procesando subdirectorio: {subdir_name}\")\n",
    "\n",
    "            if separator in subdir_name:\n",
    "                try:\n",
    "                    group_name, class_name = subdir_name.split(separator, 1)\n",
    "                except ValueError:\n",
    "                    logging.warning(f\"No se pudo dividir el nombre '{subdir_name}' usando '{separator}'. Saltando directorio.\")\n",
    "                    continue\n",
    "\n",
    "                for sub_entry in os.scandir(subdir_path):\n",
    "                    if sub_entry.is_file():\n",
    "                        file_name = sub_entry.name\n",
    "                        file_path = sub_entry.path\n",
    "\n",
    "                        _, extension = os.path.splitext(file_name)\n",
    "                        if extension.lower() in valid_extensions:\n",
    "                            relative_path = os.path.relpath(os.path.dirname(file_path), root_dir) # Carpeta dónde encontrar a imagen\n",
    "                            \n",
    "                            # Almacena toda la información\n",
    "                            data.append({\n",
    "                                'image_path': f\"{relative_path}/\",\n",
    "                                'filename': file_name,\n",
    "                                'group': group_name,\n",
    "                                'class': class_name\n",
    "                            })\n",
    "                        else:\n",
    "                            logging.debug(f\"Archivo omitido (no es imagen válida): {file_path}\")\n",
    "            else:\n",
    "                logging.warning(f\"El nombre del subdirectorio '{subdir_name}' no contiene el separador '{separator}'. Saltando.\")\n",
    "\n",
    "    if not data:\n",
    "        logging.warning(\"No se encontraron imágenes válidas en la estructura de directorios especificada.\")\n",
    "\n",
    "    # Construye el DataFrame\n",
    "    df = pd.DataFrame(data, columns=output_columns)\n",
    "    logging.info(f\"Proceso completado. Se encontraron {len(df)} imágenes.\")\n",
    "    return df"
   ],
   "outputs": [],
   "execution_count": 46
  },
  {
   "cell_type": "code",
   "metadata": {
    "ExecuteTime": {
     "end_time": "2025-04-04T23:16:41.851414Z",
     "start_time": "2025-04-04T23:16:41.607927Z"
    }
   },
   "source": [
    "df = process_image_directory(ROOT_DIR)"
   ],
   "outputs": [
    {
     "name": "stderr",
     "output_type": "stream",
     "text": [
      "2025-04-04 20:16:41,608 - INFO - Comenzando el procesamiento del directorio: /home/juan/.cache/kagglehub/datasets/abdallahalidev/plantvillage-dataset/versions/3/plantvillage dataset/color\n",
      "2025-04-04 20:16:41,609 - INFO - Procesando subdirectorio: Potato___healthy\n",
      "2025-04-04 20:16:41,610 - INFO - Procesando subdirectorio: Apple___Apple_scab\n",
      "2025-04-04 20:16:41,614 - INFO - Procesando subdirectorio: Apple___Cedar_apple_rust\n",
      "2025-04-04 20:16:41,616 - INFO - Procesando subdirectorio: Orange___Haunglongbing_(Citrus_greening)\n",
      "2025-04-04 20:16:41,641 - INFO - Procesando subdirectorio: Squash___Powdery_mildew\n",
      "2025-04-04 20:16:41,648 - INFO - Procesando subdirectorio: Peach___healthy\n",
      "2025-04-04 20:16:41,650 - INFO - Procesando subdirectorio: Cherry_(including_sour)___Powdery_mildew\n",
      "2025-04-04 20:16:41,655 - INFO - Procesando subdirectorio: Tomato___Tomato_mosaic_virus\n",
      "2025-04-04 20:16:41,656 - INFO - Procesando subdirectorio: Blueberry___healthy\n",
      "2025-04-04 20:16:41,663 - INFO - Procesando subdirectorio: Apple___Black_rot\n",
      "2025-04-04 20:16:41,665 - INFO - Procesando subdirectorio: Grape___Leaf_blight_(Isariopsis_Leaf_Spot)\n",
      "2025-04-04 20:16:41,670 - INFO - Procesando subdirectorio: Tomato___healthy\n",
      "2025-04-04 20:16:41,677 - INFO - Procesando subdirectorio: Corn_(maize)___Common_rust_\n",
      "2025-04-04 20:16:41,682 - INFO - Procesando subdirectorio: Tomato___Tomato_Yellow_Leaf_Curl_Virus\n",
      "2025-04-04 20:16:41,703 - INFO - Procesando subdirectorio: Soybean___healthy\n",
      "2025-04-04 20:16:41,724 - INFO - Procesando subdirectorio: Tomato___Leaf_Mold\n",
      "2025-04-04 20:16:41,728 - INFO - Procesando subdirectorio: Peach___Bacterial_spot\n",
      "2025-04-04 20:16:41,738 - INFO - Procesando subdirectorio: Tomato___Septoria_leaf_spot\n",
      "2025-04-04 20:16:41,745 - INFO - Procesando subdirectorio: Tomato___Target_Spot\n",
      "2025-04-04 20:16:41,751 - INFO - Procesando subdirectorio: Raspberry___healthy\n",
      "2025-04-04 20:16:41,753 - INFO - Procesando subdirectorio: Tomato___Late_blight\n",
      "2025-04-04 20:16:41,761 - INFO - Procesando subdirectorio: Tomato___Bacterial_spot\n",
      "2025-04-04 20:16:41,770 - INFO - Procesando subdirectorio: Strawberry___Leaf_scorch\n",
      "2025-04-04 20:16:41,775 - INFO - Procesando subdirectorio: Tomato___Early_blight\n",
      "2025-04-04 20:16:41,779 - INFO - Procesando subdirectorio: Apple___healthy\n",
      "2025-04-04 20:16:41,786 - INFO - Procesando subdirectorio: Pepper,_bell___Bacterial_spot\n",
      "2025-04-04 20:16:41,791 - INFO - Procesando subdirectorio: Potato___Late_blight\n",
      "2025-04-04 20:16:41,795 - INFO - Procesando subdirectorio: Tomato___Spider_mites Two-spotted_spider_mite\n",
      "2025-04-04 20:16:41,802 - INFO - Procesando subdirectorio: Strawberry___healthy\n",
      "2025-04-04 20:16:41,804 - INFO - Procesando subdirectorio: Corn_(maize)___Northern_Leaf_Blight\n",
      "2025-04-04 20:16:41,808 - INFO - Procesando subdirectorio: Corn_(maize)___healthy\n",
      "2025-04-04 20:16:41,813 - INFO - Procesando subdirectorio: Pepper,_bell___healthy\n",
      "2025-04-04 20:16:41,819 - INFO - Procesando subdirectorio: Cherry_(including_sour)___healthy\n",
      "2025-04-04 20:16:41,823 - INFO - Procesando subdirectorio: Potato___Early_blight\n",
      "2025-04-04 20:16:41,827 - INFO - Procesando subdirectorio: Grape___Black_rot\n",
      "2025-04-04 20:16:41,832 - INFO - Procesando subdirectorio: Grape___Esca_(Black_Measles)\n",
      "2025-04-04 20:16:41,838 - INFO - Procesando subdirectorio: Grape___healthy\n",
      "2025-04-04 20:16:41,840 - INFO - Procesando subdirectorio: Corn_(maize)___Cercospora_leaf_spot Gray_leaf_spot\n",
      "2025-04-04 20:16:41,849 - INFO - Proceso completado. Se encontraron 54305 imágenes.\n"
     ]
    }
   ],
   "execution_count": 47
  },
  {
   "cell_type": "code",
   "metadata": {
    "ExecuteTime": {
     "end_time": "2025-04-04T23:16:41.863858Z",
     "start_time": "2025-04-04T23:16:41.860325Z"
    }
   },
   "source": [
    "df.sample(5)"
   ],
   "outputs": [
    {
     "data": {
      "text/plain": [
       "                                        image_path  \\\n",
       "12690  Grape___Leaf_blight_(Isariopsis_Leaf_Spot)/   \n",
       "14596                            Tomato___healthy/   \n",
       "27630                      Peach___Bacterial_spot/   \n",
       "7202                      Squash___Powdery_mildew/   \n",
       "15244                 Corn_(maize)___Common_rust_/   \n",
       "\n",
       "                                                filename         group  \\\n",
       "12690  69a14243-b896-4910-8c9a-f96920d738d8___FAM_L.B...         Grape   \n",
       "14596  6949b108-03f0-4cee-b91a-bb5b23e93249___GH_HL L...        Tomato   \n",
       "27630  edb67083-c1e5-410b-a05e-182bd333e1ce___Rutg._B...         Peach   \n",
       "7202   9750b896-780b-4c18-a484-6b6acb720425___UMD_Pow...        Squash   \n",
       "15244                                   RS_Rust 2122.JPG  Corn_(maize)   \n",
       "\n",
       "                                    class  \n",
       "12690  Leaf_blight_(Isariopsis_Leaf_Spot)  \n",
       "14596                             healthy  \n",
       "27630                      Bacterial_spot  \n",
       "7202                       Powdery_mildew  \n",
       "15244                        Common_rust_  "
      ],
      "text/html": [
       "<div>\n",
       "<style scoped>\n",
       "    .dataframe tbody tr th:only-of-type {\n",
       "        vertical-align: middle;\n",
       "    }\n",
       "\n",
       "    .dataframe tbody tr th {\n",
       "        vertical-align: top;\n",
       "    }\n",
       "\n",
       "    .dataframe thead th {\n",
       "        text-align: right;\n",
       "    }\n",
       "</style>\n",
       "<table border=\"1\" class=\"dataframe\">\n",
       "  <thead>\n",
       "    <tr style=\"text-align: right;\">\n",
       "      <th></th>\n",
       "      <th>image_path</th>\n",
       "      <th>filename</th>\n",
       "      <th>group</th>\n",
       "      <th>class</th>\n",
       "    </tr>\n",
       "  </thead>\n",
       "  <tbody>\n",
       "    <tr>\n",
       "      <th>12690</th>\n",
       "      <td>Grape___Leaf_blight_(Isariopsis_Leaf_Spot)/</td>\n",
       "      <td>69a14243-b896-4910-8c9a-f96920d738d8___FAM_L.B...</td>\n",
       "      <td>Grape</td>\n",
       "      <td>Leaf_blight_(Isariopsis_Leaf_Spot)</td>\n",
       "    </tr>\n",
       "    <tr>\n",
       "      <th>14596</th>\n",
       "      <td>Tomato___healthy/</td>\n",
       "      <td>6949b108-03f0-4cee-b91a-bb5b23e93249___GH_HL L...</td>\n",
       "      <td>Tomato</td>\n",
       "      <td>healthy</td>\n",
       "    </tr>\n",
       "    <tr>\n",
       "      <th>27630</th>\n",
       "      <td>Peach___Bacterial_spot/</td>\n",
       "      <td>edb67083-c1e5-410b-a05e-182bd333e1ce___Rutg._B...</td>\n",
       "      <td>Peach</td>\n",
       "      <td>Bacterial_spot</td>\n",
       "    </tr>\n",
       "    <tr>\n",
       "      <th>7202</th>\n",
       "      <td>Squash___Powdery_mildew/</td>\n",
       "      <td>9750b896-780b-4c18-a484-6b6acb720425___UMD_Pow...</td>\n",
       "      <td>Squash</td>\n",
       "      <td>Powdery_mildew</td>\n",
       "    </tr>\n",
       "    <tr>\n",
       "      <th>15244</th>\n",
       "      <td>Corn_(maize)___Common_rust_/</td>\n",
       "      <td>RS_Rust 2122.JPG</td>\n",
       "      <td>Corn_(maize)</td>\n",
       "      <td>Common_rust_</td>\n",
       "    </tr>\n",
       "  </tbody>\n",
       "</table>\n",
       "</div>"
      ]
     },
     "execution_count": 48,
     "metadata": {},
     "output_type": "execute_result"
    }
   ],
   "execution_count": 48
  },
  {
   "cell_type": "code",
   "metadata": {
    "ExecuteTime": {
     "end_time": "2025-04-04T23:16:41.924657Z",
     "start_time": "2025-04-04T23:16:41.917232Z"
    }
   },
   "source": "df.info()\n",
   "outputs": [
    {
     "name": "stdout",
     "output_type": "stream",
     "text": [
      "<class 'pandas.core.frame.DataFrame'>\n",
      "RangeIndex: 54305 entries, 0 to 54304\n",
      "Data columns (total 4 columns):\n",
      " #   Column      Non-Null Count  Dtype \n",
      "---  ------      --------------  ----- \n",
      " 0   image_path  54305 non-null  object\n",
      " 1   filename    54305 non-null  object\n",
      " 2   group       54305 non-null  object\n",
      " 3   class       54305 non-null  object\n",
      "dtypes: object(4)\n",
      "memory usage: 1.7+ MB\n"
     ]
    }
   ],
   "execution_count": 49
  },
  {
   "cell_type": "code",
   "metadata": {
    "ExecuteTime": {
     "end_time": "2025-04-04T23:16:41.988976Z",
     "start_time": "2025-04-04T23:16:41.965034Z"
    }
   },
   "source": [
    "df.describe()"
   ],
   "outputs": [
    {
     "data": {
      "text/plain": [
       "                                       image_path  \\\n",
       "count                                       54305   \n",
       "unique                                         38   \n",
       "top     Orange___Haunglongbing_(Citrus_greening)/   \n",
       "freq                                         5507   \n",
       "\n",
       "                                                 filename   group    class  \n",
       "count                                               54305   54305    54305  \n",
       "unique                                              54305      14       21  \n",
       "top     7c479d6b-0f9a-4646-8337-445b76d2959e___RS_GLSp...  Tomato  healthy  \n",
       "freq                                                    1   18160    15084  "
      ],
      "text/html": [
       "<div>\n",
       "<style scoped>\n",
       "    .dataframe tbody tr th:only-of-type {\n",
       "        vertical-align: middle;\n",
       "    }\n",
       "\n",
       "    .dataframe tbody tr th {\n",
       "        vertical-align: top;\n",
       "    }\n",
       "\n",
       "    .dataframe thead th {\n",
       "        text-align: right;\n",
       "    }\n",
       "</style>\n",
       "<table border=\"1\" class=\"dataframe\">\n",
       "  <thead>\n",
       "    <tr style=\"text-align: right;\">\n",
       "      <th></th>\n",
       "      <th>image_path</th>\n",
       "      <th>filename</th>\n",
       "      <th>group</th>\n",
       "      <th>class</th>\n",
       "    </tr>\n",
       "  </thead>\n",
       "  <tbody>\n",
       "    <tr>\n",
       "      <th>count</th>\n",
       "      <td>54305</td>\n",
       "      <td>54305</td>\n",
       "      <td>54305</td>\n",
       "      <td>54305</td>\n",
       "    </tr>\n",
       "    <tr>\n",
       "      <th>unique</th>\n",
       "      <td>38</td>\n",
       "      <td>54305</td>\n",
       "      <td>14</td>\n",
       "      <td>21</td>\n",
       "    </tr>\n",
       "    <tr>\n",
       "      <th>top</th>\n",
       "      <td>Orange___Haunglongbing_(Citrus_greening)/</td>\n",
       "      <td>7c479d6b-0f9a-4646-8337-445b76d2959e___RS_GLSp...</td>\n",
       "      <td>Tomato</td>\n",
       "      <td>healthy</td>\n",
       "    </tr>\n",
       "    <tr>\n",
       "      <th>freq</th>\n",
       "      <td>5507</td>\n",
       "      <td>1</td>\n",
       "      <td>18160</td>\n",
       "      <td>15084</td>\n",
       "    </tr>\n",
       "  </tbody>\n",
       "</table>\n",
       "</div>"
      ]
     },
     "execution_count": 50,
     "metadata": {},
     "output_type": "execute_result"
    }
   ],
   "execution_count": 50
  },
  {
   "cell_type": "code",
   "metadata": {
    "ExecuteTime": {
     "end_time": "2025-04-04T23:16:42.033959Z",
     "start_time": "2025-04-04T23:16:42.030722Z"
    }
   },
   "source": [
    "print(\"Conteo por grupo:\")\n",
    "print(df['group'].value_counts())"
   ],
   "outputs": [
    {
     "name": "stdout",
     "output_type": "stream",
     "text": [
      "Conteo por grupo:\n",
      "group\n",
      "Tomato                     18160\n",
      "Orange                      5507\n",
      "Soybean                     5090\n",
      "Grape                       4062\n",
      "Corn_(maize)                3852\n",
      "Apple                       3171\n",
      "Peach                       2657\n",
      "Pepper,_bell                2475\n",
      "Potato                      2152\n",
      "Cherry_(including_sour)     1906\n",
      "Squash                      1835\n",
      "Strawberry                  1565\n",
      "Blueberry                   1502\n",
      "Raspberry                    371\n",
      "Name: count, dtype: int64\n"
     ]
    }
   ],
   "execution_count": 51
  },
  {
   "cell_type": "code",
   "metadata": {
    "ExecuteTime": {
     "end_time": "2025-04-04T23:16:42.082607Z",
     "start_time": "2025-04-04T23:16:42.079201Z"
    }
   },
   "source": [
    "print(\"Conteo por clase:\")\n",
    "print(df['class'].value_counts())"
   ],
   "outputs": [
    {
     "name": "stdout",
     "output_type": "stream",
     "text": [
      "Conteo por clase:\n",
      "class\n",
      "healthy                                 15084\n",
      "Haunglongbing_(Citrus_greening)          5507\n",
      "Bacterial_spot                           5421\n",
      "Tomato_Yellow_Leaf_Curl_Virus            5357\n",
      "Late_blight                              2909\n",
      "Powdery_mildew                           2887\n",
      "Early_blight                             2000\n",
      "Black_rot                                1801\n",
      "Septoria_leaf_spot                       1771\n",
      "Spider_mites Two-spotted_spider_mite     1676\n",
      "Target_Spot                              1404\n",
      "Esca_(Black_Measles)                     1383\n",
      "Common_rust_                             1192\n",
      "Leaf_scorch                              1109\n",
      "Leaf_blight_(Isariopsis_Leaf_Spot)       1076\n",
      "Northern_Leaf_Blight                      985\n",
      "Leaf_Mold                                 952\n",
      "Apple_scab                                630\n",
      "Cercospora_leaf_spot Gray_leaf_spot       513\n",
      "Tomato_mosaic_virus                       373\n",
      "Cedar_apple_rust                          275\n",
      "Name: count, dtype: int64\n"
     ]
    }
   ],
   "execution_count": 52
  },
  {
   "cell_type": "markdown",
   "metadata": {},
   "source": [
    "## Carga de imágenes"
   ]
  },
  {
   "cell_type": "code",
   "metadata": {
    "ExecuteTime": {
     "end_time": "2025-04-04T23:16:42.115566Z",
     "start_time": "2025-04-04T23:16:42.113422Z"
    }
   },
   "source": [
    "from PIL import Image\n",
    "import os\n",
    "def load_image(data: pd.DataFrame, index: int, root: str=ROOT_DIR):\n",
    "    \"\"\"\n",
    "    Carga una imagen PIL desde una fila específica de un DataFrame.\n",
    "\n",
    "    Args:\n",
    "        dataframe (pandas.DataFrame): El DataFrame que contiene las rutas de las imágenes.\n",
    "        index (int): El índice de la fila en el DataFrame para cargar la imagen.\n",
    "        root_dir (str): El directorio raíz donde se encuentran las imágenes.\n",
    "\n",
    "    Returns:\n",
    "        PIL.Image.Image: La imagen cargada como un objeto PIL.Image, o None si ocurre un error.\n",
    "    \"\"\"\n",
    "    if index < 0 or index >= len(data):\n",
    "        print(\"Índice fuera de rango.\")\n",
    "        return None\n",
    "\n",
    "    row = data.iloc[index]\n",
    "    relative_path = row['image_path']\n",
    "    filename = row['filename']\n",
    "    full_path = os.path.join(root, relative_path, filename)\n",
    "\n",
    "    try:\n",
    "        img = Image.open(full_path)\n",
    "        return img\n",
    "    except FileNotFoundError:\n",
    "        print(f\"Archivo no encontrado: {full_path}\")\n",
    "        return None\n",
    "    except Exception as e:\n",
    "        print(f\"Error al cargar la imagen: {e}\")\n",
    "        return None"
   ],
   "outputs": [],
   "execution_count": 53
  },
  {
   "cell_type": "code",
   "metadata": {
    "ExecuteTime": {
     "end_time": "2025-04-04T23:16:42.163367Z",
     "start_time": "2025-04-04T23:16:42.159618Z"
    }
   },
   "source": [
    "df"
   ],
   "outputs": [
    {
     "data": {
      "text/plain": [
       "                                              image_path  \\\n",
       "0                                      Potato___healthy/   \n",
       "1                                      Potato___healthy/   \n",
       "2                                      Potato___healthy/   \n",
       "3                                      Potato___healthy/   \n",
       "4                                      Potato___healthy/   \n",
       "...                                                  ...   \n",
       "54300  Corn_(maize)___Cercospora_leaf_spot Gray_leaf_...   \n",
       "54301  Corn_(maize)___Cercospora_leaf_spot Gray_leaf_...   \n",
       "54302  Corn_(maize)___Cercospora_leaf_spot Gray_leaf_...   \n",
       "54303  Corn_(maize)___Cercospora_leaf_spot Gray_leaf_...   \n",
       "54304  Corn_(maize)___Cercospora_leaf_spot Gray_leaf_...   \n",
       "\n",
       "                                                filename         group  \\\n",
       "0      923d4cc3-021a-4bcd-9f5f-1d6f69e4ad33___RS_HL 1...        Potato   \n",
       "1      80bb8697-bfab-449b-b870-e1ed2089df58___RS_HL 1...        Potato   \n",
       "2      1ae826e2-5148-47bd-a44c-711ec9cc9c75___RS_HL 1...        Potato   \n",
       "3      ec6e43d3-512d-4908-99f2-c9e2a0be54be___RS_HL 4...        Potato   \n",
       "4      369479a9-3c28-4d77-8731-9ae54e719af3___RS_HL 1...        Potato   \n",
       "...                                                  ...           ...   \n",
       "54300  910679a5-f18d-40ac-a00e-9e2c27a45610___RS_GLSp...  Corn_(maize)   \n",
       "54301  57e4abec-e203-4574-85f8-bc321b0e0ac3___RS_GLSp...  Corn_(maize)   \n",
       "54302  14913b5b-f425-43f4-8266-e6c353f96781___RS_GLSp...  Corn_(maize)   \n",
       "54303  2b6bb6a5-3f70-48da-a968-13d840815bbb___RS_GLSp...  Corn_(maize)   \n",
       "54304  7c479d6b-0f9a-4646-8337-445b76d2959e___RS_GLSp...  Corn_(maize)   \n",
       "\n",
       "                                     class  \n",
       "0                                  healthy  \n",
       "1                                  healthy  \n",
       "2                                  healthy  \n",
       "3                                  healthy  \n",
       "4                                  healthy  \n",
       "...                                    ...  \n",
       "54300  Cercospora_leaf_spot Gray_leaf_spot  \n",
       "54301  Cercospora_leaf_spot Gray_leaf_spot  \n",
       "54302  Cercospora_leaf_spot Gray_leaf_spot  \n",
       "54303  Cercospora_leaf_spot Gray_leaf_spot  \n",
       "54304  Cercospora_leaf_spot Gray_leaf_spot  \n",
       "\n",
       "[54305 rows x 4 columns]"
      ],
      "text/html": [
       "<div>\n",
       "<style scoped>\n",
       "    .dataframe tbody tr th:only-of-type {\n",
       "        vertical-align: middle;\n",
       "    }\n",
       "\n",
       "    .dataframe tbody tr th {\n",
       "        vertical-align: top;\n",
       "    }\n",
       "\n",
       "    .dataframe thead th {\n",
       "        text-align: right;\n",
       "    }\n",
       "</style>\n",
       "<table border=\"1\" class=\"dataframe\">\n",
       "  <thead>\n",
       "    <tr style=\"text-align: right;\">\n",
       "      <th></th>\n",
       "      <th>image_path</th>\n",
       "      <th>filename</th>\n",
       "      <th>group</th>\n",
       "      <th>class</th>\n",
       "    </tr>\n",
       "  </thead>\n",
       "  <tbody>\n",
       "    <tr>\n",
       "      <th>0</th>\n",
       "      <td>Potato___healthy/</td>\n",
       "      <td>923d4cc3-021a-4bcd-9f5f-1d6f69e4ad33___RS_HL 1...</td>\n",
       "      <td>Potato</td>\n",
       "      <td>healthy</td>\n",
       "    </tr>\n",
       "    <tr>\n",
       "      <th>1</th>\n",
       "      <td>Potato___healthy/</td>\n",
       "      <td>80bb8697-bfab-449b-b870-e1ed2089df58___RS_HL 1...</td>\n",
       "      <td>Potato</td>\n",
       "      <td>healthy</td>\n",
       "    </tr>\n",
       "    <tr>\n",
       "      <th>2</th>\n",
       "      <td>Potato___healthy/</td>\n",
       "      <td>1ae826e2-5148-47bd-a44c-711ec9cc9c75___RS_HL 1...</td>\n",
       "      <td>Potato</td>\n",
       "      <td>healthy</td>\n",
       "    </tr>\n",
       "    <tr>\n",
       "      <th>3</th>\n",
       "      <td>Potato___healthy/</td>\n",
       "      <td>ec6e43d3-512d-4908-99f2-c9e2a0be54be___RS_HL 4...</td>\n",
       "      <td>Potato</td>\n",
       "      <td>healthy</td>\n",
       "    </tr>\n",
       "    <tr>\n",
       "      <th>4</th>\n",
       "      <td>Potato___healthy/</td>\n",
       "      <td>369479a9-3c28-4d77-8731-9ae54e719af3___RS_HL 1...</td>\n",
       "      <td>Potato</td>\n",
       "      <td>healthy</td>\n",
       "    </tr>\n",
       "    <tr>\n",
       "      <th>...</th>\n",
       "      <td>...</td>\n",
       "      <td>...</td>\n",
       "      <td>...</td>\n",
       "      <td>...</td>\n",
       "    </tr>\n",
       "    <tr>\n",
       "      <th>54300</th>\n",
       "      <td>Corn_(maize)___Cercospora_leaf_spot Gray_leaf_...</td>\n",
       "      <td>910679a5-f18d-40ac-a00e-9e2c27a45610___RS_GLSp...</td>\n",
       "      <td>Corn_(maize)</td>\n",
       "      <td>Cercospora_leaf_spot Gray_leaf_spot</td>\n",
       "    </tr>\n",
       "    <tr>\n",
       "      <th>54301</th>\n",
       "      <td>Corn_(maize)___Cercospora_leaf_spot Gray_leaf_...</td>\n",
       "      <td>57e4abec-e203-4574-85f8-bc321b0e0ac3___RS_GLSp...</td>\n",
       "      <td>Corn_(maize)</td>\n",
       "      <td>Cercospora_leaf_spot Gray_leaf_spot</td>\n",
       "    </tr>\n",
       "    <tr>\n",
       "      <th>54302</th>\n",
       "      <td>Corn_(maize)___Cercospora_leaf_spot Gray_leaf_...</td>\n",
       "      <td>14913b5b-f425-43f4-8266-e6c353f96781___RS_GLSp...</td>\n",
       "      <td>Corn_(maize)</td>\n",
       "      <td>Cercospora_leaf_spot Gray_leaf_spot</td>\n",
       "    </tr>\n",
       "    <tr>\n",
       "      <th>54303</th>\n",
       "      <td>Corn_(maize)___Cercospora_leaf_spot Gray_leaf_...</td>\n",
       "      <td>2b6bb6a5-3f70-48da-a968-13d840815bbb___RS_GLSp...</td>\n",
       "      <td>Corn_(maize)</td>\n",
       "      <td>Cercospora_leaf_spot Gray_leaf_spot</td>\n",
       "    </tr>\n",
       "    <tr>\n",
       "      <th>54304</th>\n",
       "      <td>Corn_(maize)___Cercospora_leaf_spot Gray_leaf_...</td>\n",
       "      <td>7c479d6b-0f9a-4646-8337-445b76d2959e___RS_GLSp...</td>\n",
       "      <td>Corn_(maize)</td>\n",
       "      <td>Cercospora_leaf_spot Gray_leaf_spot</td>\n",
       "    </tr>\n",
       "  </tbody>\n",
       "</table>\n",
       "<p>54305 rows × 4 columns</p>\n",
       "</div>"
      ]
     },
     "execution_count": 54,
     "metadata": {},
     "output_type": "execute_result"
    }
   ],
   "execution_count": 54
  },
  {
   "cell_type": "code",
   "metadata": {
    "ExecuteTime": {
     "end_time": "2025-04-04T23:16:42.225453Z",
     "start_time": "2025-04-04T23:16:42.217493Z"
    }
   },
   "source": [
    "# Permite visualizar una imagen específica (con iloc)\n",
    "index = 0 # Indice de la imagen a cargar\n",
    "image = load_image(data=df, index=index, root=ROOT_DIR)\n",
    "\n",
    "#image.show() #popup option\n",
    "image"
   ],
   "outputs": [
    {
     "data": {
      "text/plain": [
       "<PIL.JpegImagePlugin.JpegImageFile image mode=RGB size=256x256>"
      ],
      "image/png": "[encoded data removed]",
      "image/jpeg": "[encoded data removed]"
     },
     "execution_count": 55,
     "metadata": {},
     "output_type": "execute_result"
    }
   ],
   "execution_count": 55
  },
  {
   "metadata": {},
   "cell_type": "markdown",
   "source": "## Tamaño de las imágenes"
  },
  {
   "metadata": {
    "ExecuteTime": {
     "end_time": "2025-04-04T23:17:25.004246Z",
     "start_time": "2025-04-04T23:17:21.747752Z"
    }
   },
   "cell_type": "code",
   "source": [
    "sizes = []\n",
    "for index in range (0,df.shape[0]):\n",
    "    \n",
    "    image = load_image(data=df, index=index, root=ROOT_DIR)\n",
    "    sizes.append(image.size)"
   ],
   "outputs": [],
   "execution_count": 59
  },
  {
   "metadata": {
    "ExecuteTime": {
     "end_time": "2025-04-04T23:17:58.235453Z",
     "start_time": "2025-04-04T23:17:58.231368Z"
    }
   },
   "cell_type": "code",
   "source": "set(sizes)",
   "outputs": [
    {
     "data": {
      "text/plain": [
       "{(256, 256)}"
      ]
     },
     "execution_count": 61,
     "metadata": {},
     "output_type": "execute_result"
    }
   ],
   "execution_count": 61
  },
  {
   "cell_type": "markdown",
   "metadata": {},
   "source": [
    "## Dataset split"
   ]
  },
  {
   "cell_type": "code",
   "metadata": {
    "ExecuteTime": {
     "end_time": "2025-04-04T23:16:42.374426657Z",
     "start_time": "2025-04-04T21:56:48.993450Z"
    }
   },
   "source": [
    "from sklearn.model_selection import train_test_split"
   ],
   "outputs": [],
   "execution_count": 34
  },
  {
   "cell_type": "code",
   "metadata": {
    "ExecuteTime": {
     "end_time": "2025-04-04T23:16:42.374527815Z",
     "start_time": "2025-04-04T21:56:49.034899Z"
    }
   },
   "source": [
    "def split_data(df,\n",
    "               target_column='class',\n",
    "               test_size=0.20,\n",
    "               validation_size=0.0, # Por defecto no define un conjunto de validación\n",
    "               random_state=42,     # Semilla para reproducibilidad\n",
    "               split_column_name='split'):\n",
    "    \"\"\"\n",
    "    Añade una columna al DataFrame indicando la división (train/test/validation).\n",
    "\n",
    "    Realiza una división estratificada para mantener el balance de clases.\n",
    "\n",
    "    Args:\n",
    "        df (pd.DataFrame): DataFrame de entrada con al menos la columna 'target_column'.\n",
    "        target_column (str): Nombre de la columna que contiene las etiquetas de clase\n",
    "                             para la estratificación (ej: 'class').\n",
    "        test_size (float): Proporción del dataset a incluir en el conjunto de test (ej: 0.20).\n",
    "        validation_size (float): Proporción del dataset a incluir en el conjunto de validación.\n",
    "                                 La proporción de entrenamiento será 1.0 - test_size - validation_size.\n",
    "                                 Si es 0.0, solo se crearán conjuntos de train y test.\n",
    "        random_state (int): Semilla para el generador de números aleatorios para asegurar\n",
    "                            divisiones reproducibles.\n",
    "        split_column_name (str): Nombre de la nueva columna que contendrá las etiquetas\n",
    "                                 'train', 'test' o 'validation'.\n",
    "\n",
    "    Returns:\n",
    "        pd.DataFrame: El DataFrame original con la nueva columna 'split_column_name'.\n",
    "\n",
    "    Raises:\n",
    "        ValueError: Si test_size + validation_size >= 1.0, o si target_column no existe.\n",
    "        ImportError: Si scikit-learn no está instalado.\n",
    "    \"\"\"\n",
    "    if target_column not in df.columns:\n",
    "        raise ValueError(f\"La columna objetivo '{target_column}' no se encuentra en el DataFrame.\")\n",
    "\n",
    "    if not isinstance(test_size, float) or not (0.0 <= test_size < 1.0):\n",
    "         raise ValueError(\"test_size debe ser un float entre 0.0 y 1.0.\")\n",
    "\n",
    "    if not isinstance(validation_size, float) or not (0.0 <= validation_size < 1.0):\n",
    "         raise ValueError(\"validation_size debe ser un float entre 0.0 y 1.0.\")\n",
    "\n",
    "    if test_size + validation_size >= 1.0:\n",
    "        raise ValueError(\"La suma de test_size y validation_size debe ser menor que 1.0.\")\n",
    "\n",
    "    # Crear la nueva columna inicializada (opcional, pero ayuda a la claridad)\n",
    "    df[split_column_name] = 'unassigned'\n",
    "\n",
    "    # Extraer etiquetas para estratificación\n",
    "    labels = df[target_column]\n",
    "    indices = df.index # Usaremos los índices para la división\n",
    "\n",
    "    # --- Lógica de División ---\n",
    "\n",
    "    # Caso 1: División en Train / Test (sin Validación)\n",
    "    if validation_size == 0.0:\n",
    "        train_indices, test_indices = train_test_split(\n",
    "            indices,\n",
    "            test_size=test_size,\n",
    "            random_state=random_state,\n",
    "            stratify=labels # Permite mantener el balance de clases\n",
    "        )\n",
    "        df.loc[train_indices, split_column_name] = 'train'\n",
    "        df.loc[test_indices, split_column_name] = 'test'\n",
    "        logging.info(f\"División completada: Train ({1-test_size:.1%}), Test ({test_size:.1%}). Estratificada por '{target_column}'.\")\n",
    "\n",
    "    # Caso 2: División en Train / Validation / Test\n",
    "    else:\n",
    "        # Paso 1: Dividir en (Train + Validation) y Test\n",
    "        remaining_indices, test_indices = train_test_split(\n",
    "            indices,\n",
    "            test_size=test_size, # Tamaño final del conjunto de test\n",
    "            random_state=random_state,\n",
    "            stratify=labels\n",
    "        )\n",
    "\n",
    "        # Calcular el tamaño relativo de validación respecto al conjunto restante (Train + Validation)\n",
    "        # Ejemplo: test=0.2, val=0.1 -> Total 0.3. Restante 0.7. val_rel = 0.1 / 0.7 = 0.142...\n",
    "        # train_test_split tomará el 14.2% del 70% restante, lo que equivale al 10% del total original.\n",
    "        relative_val_size = validation_size / (1.0 - test_size)\n",
    "\n",
    "        # Obtener las etiquetas correspondientes SOLO al conjunto restante para la segunda estratificación\n",
    "        remaining_labels = df.loc[remaining_indices, target_column]\n",
    "\n",
    "        # Paso 2: Dividir el conjunto restante en Train y Validation\n",
    "        train_indices, validation_indices = train_test_split(\n",
    "            remaining_indices, # Dividir solo los índices restantes\n",
    "            test_size=relative_val_size, # Tamaño relativo calculado\n",
    "            random_state=random_state,   # Usar la misma semilla para consistencia\n",
    "            stratify=remaining_labels    # Estratificar usando las etiquetas restantes\n",
    "        )\n",
    "\n",
    "        # Asignar etiquetas de división al DataFrame original\n",
    "        df.loc[train_indices, split_column_name] = 'train'\n",
    "        df.loc[validation_indices, split_column_name] = 'valid'\n",
    "        df.loc[test_indices, split_column_name] = 'test'\n",
    "\n",
    "        train_actual_prop = len(train_indices) / len(df)\n",
    "        val_actual_prop = len(validation_indices) / len(df)\n",
    "        test_actual_prop = len(test_indices) / len(df)\n",
    "        logging.info(f\"División completada: Train ({train_actual_prop:.1%}), Validation ({val_actual_prop:.1%}), Test ({test_actual_prop:.1%}). Estratificada por '{target_column}'.\")\n",
    "\n",
    "    return df"
   ],
   "outputs": [],
   "execution_count": 35
  },
  {
   "cell_type": "code",
   "metadata": {
    "ExecuteTime": {
     "end_time": "2025-04-04T23:16:42.374602575Z",
     "start_time": "2025-04-04T21:56:49.080127Z"
    }
   },
   "source": [
    "# Disivión del dataset\n",
    "# (Ejemplo: 70% train, 15% validation, 15% test)\n",
    "try:\n",
    "        df_split = split_data(df.copy(), # Usar .copy() para no modificar el original directamente aquí\n",
    "                                target_column='class',\n",
    "                                test_size=0.2,\n",
    "                                validation_size=0.1,\n",
    "                                random_state=42) # Usa la semilla que prefieras\n",
    "\n",
    "except ValueError as e:\n",
    "        print(f\"\\nError al dividir los datos: {e}\")\n",
    "except ImportError:\n",
    "        print(\"\\nError: La biblioteca scikit-learn no está instalada. Por favor, instálala con 'pip install scikit-learn'\")\n",
    "except Exception as e:\n",
    "        print(f\"\\nOcurrió un error inesperado: {e}\")\n"
   ],
   "outputs": [
    {
     "name": "stderr",
     "output_type": "stream",
     "text": [
      "2025-04-04 18:56:49,117 - INFO - División completada: Train (70.0%), Validation (10.0%), Test (20.0%). Estratificada por 'class'.\n"
     ]
    }
   ],
   "execution_count": 36
  },
  {
   "cell_type": "code",
   "metadata": {
    "ExecuteTime": {
     "end_time": "2025-04-04T23:16:42.374657587Z",
     "start_time": "2025-04-04T21:56:49.128260Z"
    }
   },
   "source": [
    "df_split.sample(5)"
   ],
   "outputs": [
    {
     "data": {
      "text/plain": [
       "                                      image_path  \\\n",
       "452                          Apple___Apple_scab/   \n",
       "52494              Grape___Esca_(Black_Measles)/   \n",
       "1604   Orange___Haunglongbing_(Citrus_greening)/   \n",
       "31050               Tomato___Septoria_leaf_spot/   \n",
       "24774                         Soybean___healthy/   \n",
       "\n",
       "                                                filename    group  \\\n",
       "452    5d398d0d-256d-4de5-8dcd-f3b455da2b76___FREC_Sc...    Apple   \n",
       "52494  c495c21c-1ce4-4da9-a737-56d2f30d4ab0___FAM_B.M...    Grape   \n",
       "1604   42f55116-f60a-487f-bb65-94aa48951292___UF.Citr...   Orange   \n",
       "31050  963549d4-2e44-4b10-8e73-9d955a80949c___Keller....   Tomato   \n",
       "24774  7c19f25e-5943-4f43-9e1f-ea5c3c9392d9___RS_HL 5...  Soybean   \n",
       "\n",
       "                                 class  split  \n",
       "452                         Apple_scab  train  \n",
       "52494             Esca_(Black_Measles)   test  \n",
       "1604   Haunglongbing_(Citrus_greening)  train  \n",
       "31050               Septoria_leaf_spot  train  \n",
       "24774                          healthy   test  "
      ],
      "text/html": [
       "<div>\n",
       "<style scoped>\n",
       "    .dataframe tbody tr th:only-of-type {\n",
       "        vertical-align: middle;\n",
       "    }\n",
       "\n",
       "    .dataframe tbody tr th {\n",
       "        vertical-align: top;\n",
       "    }\n",
       "\n",
       "    .dataframe thead th {\n",
       "        text-align: right;\n",
       "    }\n",
       "</style>\n",
       "<table border=\"1\" class=\"dataframe\">\n",
       "  <thead>\n",
       "    <tr style=\"text-align: right;\">\n",
       "      <th></th>\n",
       "      <th>image_path</th>\n",
       "      <th>filename</th>\n",
       "      <th>group</th>\n",
       "      <th>class</th>\n",
       "      <th>split</th>\n",
       "    </tr>\n",
       "  </thead>\n",
       "  <tbody>\n",
       "    <tr>\n",
       "      <th>452</th>\n",
       "      <td>Apple___Apple_scab/</td>\n",
       "      <td>5d398d0d-256d-4de5-8dcd-f3b455da2b76___FREC_Sc...</td>\n",
       "      <td>Apple</td>\n",
       "      <td>Apple_scab</td>\n",
       "      <td>train</td>\n",
       "    </tr>\n",
       "    <tr>\n",
       "      <th>52494</th>\n",
       "      <td>Grape___Esca_(Black_Measles)/</td>\n",
       "      <td>c495c21c-1ce4-4da9-a737-56d2f30d4ab0___FAM_B.M...</td>\n",
       "      <td>Grape</td>\n",
       "      <td>Esca_(Black_Measles)</td>\n",
       "      <td>test</td>\n",
       "    </tr>\n",
       "    <tr>\n",
       "      <th>1604</th>\n",
       "      <td>Orange___Haunglongbing_(Citrus_greening)/</td>\n",
       "      <td>42f55116-f60a-487f-bb65-94aa48951292___UF.Citr...</td>\n",
       "      <td>Orange</td>\n",
       "      <td>Haunglongbing_(Citrus_greening)</td>\n",
       "      <td>train</td>\n",
       "    </tr>\n",
       "    <tr>\n",
       "      <th>31050</th>\n",
       "      <td>Tomato___Septoria_leaf_spot/</td>\n",
       "      <td>963549d4-2e44-4b10-8e73-9d955a80949c___Keller....</td>\n",
       "      <td>Tomato</td>\n",
       "      <td>Septoria_leaf_spot</td>\n",
       "      <td>train</td>\n",
       "    </tr>\n",
       "    <tr>\n",
       "      <th>24774</th>\n",
       "      <td>Soybean___healthy/</td>\n",
       "      <td>7c19f25e-5943-4f43-9e1f-ea5c3c9392d9___RS_HL 5...</td>\n",
       "      <td>Soybean</td>\n",
       "      <td>healthy</td>\n",
       "      <td>test</td>\n",
       "    </tr>\n",
       "  </tbody>\n",
       "</table>\n",
       "</div>"
      ]
     },
     "execution_count": 37,
     "metadata": {},
     "output_type": "execute_result"
    }
   ],
   "execution_count": 37
  },
  {
   "cell_type": "code",
   "metadata": {
    "ExecuteTime": {
     "end_time": "2025-04-04T23:16:42.374991600Z",
     "start_time": "2025-04-04T21:56:49.183395Z"
    }
   },
   "source": [
    "print(\"\\n--- Conteo de muestras por 'split' ---\")\n",
    "print(df_split['split'].value_counts(normalize=True)) # normalize=True muestra proporciones\n",
    "\n",
    "print(\"\\n--- Verificación del Balance de Clases por 'split' ---\")\n",
    "\n",
    "# Comprobar si las proporciones de clases son similares en cada split\n",
    "print(df_split.groupby('split')['class'].value_counts(normalize=True))"
   ],
   "outputs": [
    {
     "name": "stdout",
     "output_type": "stream",
     "text": [
      "\n",
      "--- Conteo de muestras por 'split' ---\n",
      "split\n",
      "train    0.699991\n",
      "test     0.200000\n",
      "valid    0.100009\n",
      "Name: proportion, dtype: float64\n",
      "\n",
      "--- Verificación del Balance de Clases por 'split' ---\n",
      "split  class                              \n",
      "test   healthy                                0.277783\n",
      "       Haunglongbing_(Citrus_greening)        0.101464\n",
      "       Bacterial_spot                         0.099807\n",
      "       Tomato_Yellow_Leaf_Curl_Virus          0.098610\n",
      "       Late_blight                            0.053586\n",
      "                                                ...   \n",
      "valid  Leaf_Mold                              0.017492\n",
      "       Apple_scab                             0.011600\n",
      "       Cercospora_leaf_spot Gray_leaf_spot    0.009391\n",
      "       Tomato_mosaic_virus                    0.006813\n",
      "       Cedar_apple_rust                       0.004971\n",
      "Name: proportion, Length: 63, dtype: float64\n"
     ]
    }
   ],
   "execution_count": 38
  }
 ],
 "metadata": {
  "kernelspec": {
   "display_name": "cv-env",
   "language": "python",
   "name": "python3"
  },
  "language_info": {
   "codemirror_mode": {
    "name": "ipython",
    "version": 3
   },
   "file_extension": ".py",
   "mimetype": "text/x-python",
   "name": "python",
   "nbconvert_exporter": "python",
   "pygments_lexer": "ipython3",
   "version": "3.11.11"
  }
 },
 "nbformat": 4,
 "nbformat_minor": 2
}
